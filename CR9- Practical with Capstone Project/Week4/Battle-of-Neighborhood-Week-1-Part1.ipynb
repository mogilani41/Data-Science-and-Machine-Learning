{
 "cells": [
  {
   "cell_type": "markdown",
   "metadata": {
    "collapsed": true
   },
   "source": [
    "# Capstone Project - The Battle of Neighborhoods"
   ]
  },
  {
   "cell_type": "markdown",
   "metadata": {},
   "source": [
    "## 1. Introduction and Business Problem"
   ]
  },
  {
   "cell_type": "markdown",
   "metadata": {},
   "source": [
    "### Problem Background:"
   ]
  },
  {
   "cell_type": "markdown",
   "metadata": {},
   "source": [
    "New York City's demographics show that it is a large and ethnically diverse metropolis. It is the largest city in the United States with a long history of international immigration. New York City was home to nearly 8.5 million people in 2014, accounting for over 40% of the population of New York State and a slightly lower percentage of the New York metropolitan area, home to approximately 23.6 million. Over the last decade the city has been growing faster than the region. The city is a major center for banking and finance, retailing, world trade, transportation, tourism, real estate, new media, traditional media, advertising, legal services, accountancy, insurance, theater, fashion, and the arts in the United States.The New York region continues to be by far the leading metropolitan gateway for legal immigrants admitted into the United States."
   ]
  },
  {
   "cell_type": "markdown",
   "metadata": {},
   "source": [
    "Throughout its history, New York City has been a major point of entry for immigrants; the term \"melting pot\" was coined to describe densely populated immigrant neighborhoods on the Lower East Side. As many as 800 languages are spoken in New York, making it the most linguistically diverse city in the world. English remains the most widely spoken language, although there are areas in the outer boroughs in which up to 25% of people speak English as an alternate language, and/or have limited or no English language fluency. English is least spoken in neighborhoods such as Flushing, Sunset Park, and Corona."
   ]
  },
  {
   "cell_type": "markdown",
   "metadata": {},
   "source": [
    "This also means that the market is highly competitive. As it is highly developed city so cost of doing business is also one of the highest. Thus, any new business venture or expansion needs to be analysed carefully. The insights derived from analysis will give good understanding of the business environment which help in strategically targeting the market. This will help in reduction of risk and the \"Return on Investment\" will be reasonable."
   ]
  },
  {
   "cell_type": "markdown",
   "metadata": {},
   "source": [
    "With it's diverse culture , comes diverse food items. There are many resturants in New york City, each beloning to different categories like Chinese , Italian, Indian , French etc."
   ]
  },
  {
   "cell_type": "markdown",
   "metadata": {},
   "source": [
    "### Problem Description:"
   ]
  },
  {
   "cell_type": "markdown",
   "metadata": {},
   "source": [
    "A restaurant is a business which prepares and serves food and drink to customers in return for money, either paid before the meal, after the meal, or with an open account. The City of New York is famous for its excelllent cuisine. It's food culture includes an array of international cuisines influenced by the city's immigrant history."
   ]
  },
  {
   "cell_type": "markdown",
   "metadata": {},
   "source": [
    " 1. Central and Eastern European immigrants - bagels, cheesecake, hot dogs\n",
    " 2. Italian immigrants - New York-style pizza and Italian cuisine/\n",
    " 3. Jewish immigrants and Irish immigrants - pastrami and corned beef\n",
    " 4. Indian resturants\n",
    " 5. Chinese and other Asian restaurants, sandwich joints, trattorias, diners, and coffeehouses \n",
    " 6. Middle Eastern foods such as falafel and kebabs examples of modern New York street food\n",
    "     "
   ]
  },
  {
   "cell_type": "markdown",
   "metadata": {},
   "source": [
    "So it is evident that to survive in such competitive market it is very important to startegically plan. Various factors need to be studied inorder to decide on the Location such as :\n",
    "\n",
    " 1. New York Population\n",
    " 2. New York City Demographics\n",
    " 3. Cuisine Served\n",
    " 4. Are there any Farmers Markets, Wholesale markets etc nearby \n",
    " 5. Are there any venues like Gyms, Entertainmnet zones, Parks etc nearby where floating population is high\n",
    " 6. Segmentation of the Borough\n",
    " 7. Untapped markets\n",
    " 8. Saturated markets  \n",
    "    and  etc."
   ]
  },
  {
   "cell_type": "markdown",
   "metadata": {},
   "source": [
    "In this project we  need to choose the correct location to start a restaurant for the first time. If this is successful we can replicate the same in other locations.  First move is very important, thereby choice of location is very important. To reduce the complexity we concentrate only  in first 3 factors which are: <b> Population , Demographics , and Cuisines</b>. Then  we try to find the best location for  a specific type  restaurants in 5 borogh of  New York city."
   ]
  },
  {
   "cell_type": "markdown",
   "metadata": {},
   "source": [
    "### Target Audience:"
   ]
  },
  {
   "cell_type": "markdown",
   "metadata": {},
   "source": [
    "The objective is to locate and recommend to the client, which neighborhood of Newyork city will be best choice to start a  restaurant. The reader also should  understand the rationale of the recommendations made. The followings are the targeted Audiences: \n",
    "\n",
    "  1. Business personnel who wants to invest or open a restaurant. This analysis will be a comprehensive guide to start or expand restaurants                targeting  the large pool of office workers in New York during lunch hours.\n",
    "  2. Freelancer who loves to have their own restaurant as a side business. This analysis will give an idea, how benificial it is to open a                  restaurant and what are the pros and cons of this business.\n",
    "  3. New graduates, to find reasonable lunch/breakfast place close to office.    \n",
    "  4. Budding Data Scientists, who wants to implement some of the most used Exploratory Data Analysis techniques to obtain\n",
    "     necessary data, analyze it and, finally be able to tell a story out of it."
   ]
  },
  {
   "cell_type": "markdown",
   "metadata": {},
   "source": [
    "### Success Criteria:"
   ]
  },
  {
   "cell_type": "markdown",
   "metadata": {},
   "source": [
    "The success criteria of the project will be a good recommendation of borough/Neighborhood choice to a Company based on lack of such restaurants in that location."
   ]
  }
 ],
 "metadata": {
  "kernelspec": {
   "display_name": "Python 3.6",
   "language": "python",
   "name": "python3"
  },
  "language_info": {
   "codemirror_mode": {
    "name": "ipython",
    "version": 3
   },
   "file_extension": ".py",
   "mimetype": "text/x-python",
   "name": "python",
   "nbconvert_exporter": "python",
   "pygments_lexer": "ipython3",
   "version": "3.6.9"
  }
 },
 "nbformat": 4,
 "nbformat_minor": 1
}
