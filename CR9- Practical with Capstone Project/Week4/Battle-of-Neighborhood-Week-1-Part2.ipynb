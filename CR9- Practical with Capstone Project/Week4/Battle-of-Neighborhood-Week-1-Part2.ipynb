{
 "cells": [
  {
   "cell_type": "markdown",
   "metadata": {
    "collapsed": true
   },
   "source": [
    "# Capstone Project - The Battle of Neighborhoods- Part 2"
   ]
  },
  {
   "cell_type": "markdown",
   "metadata": {},
   "source": [
    "## 2. Data Section:"
   ]
  },
  {
   "cell_type": "markdown",
   "metadata": {},
   "source": [
    "### 2.1 Description of the data and its sources "
   ]
  },
  {
   "cell_type": "markdown",
   "metadata": {},
   "source": [
    "The following data is required to answer the issues of the problem:"
   ]
  },
  {
   "cell_type": "markdown",
   "metadata": {},
   "source": [
    "<b> Data 1 :</b><br>\n",
    " New York City data that contains list Boroughs, Neighborhoods along with their latitude and longitude.Neighborhood has a total of 5 boroughs and 306 neighborhoods. In order to segement the neighborhoods and explore them, we will essentially need a dataset that contains the 5 boroughs and the neighborhoods that exist in each borough as well as the the latitude and logitude coordinates of each neighborhood.\n",
    " \n",
    "* Data source : https://cocl.us/new_york_dataset\n",
    "* Description : This data set contains the required information. And we will use this data set to explore various neighborhoods of new york city.\n",
    " \n"
   ]
  },
  {
   "cell_type": "markdown",
   "metadata": {},
   "source": [
    "<b>Data 2 :</b><br>\n",
    "New York Population-We will web scrap Population data from wikipedia page :\n",
    "\n",
    "* Data source : https://en.wikipedia.org/wiki/Demographics_of_New_York_City\n",
    "* Description : This data set contains the required information. And we will use this data set to explore population of the various neighborhoods of                   new york city."
   ]
  },
  {
   "cell_type": "markdown",
   "metadata": {},
   "source": [
    "<b>Data 3 :</b><br>\n",
    "New York Demographic-We will web scrap Demographics data from wikipedia page :\n",
    "\n",
    "* Data source : https://en.wikipedia.org/wiki/New_York_City\n",
    "* Description : This data set contains the required information. And we will use this data set to explore demographic of new york city."
   ]
  },
  {
   "cell_type": "markdown",
   "metadata": {},
   "source": [
    "<b>Data 4 :</b><br>\n",
    "New York Cuisine -We will web scrap Cuisine  data from wikipedia page :\n",
    "\n",
    "* Data source : https://en.wikipedia.org/wiki/Cuisine_of_New_York_City\n",
    "* Description : This data set contains the required information. And we will use this data set to explore demographic of new york city."
   ]
  },
  {
   "cell_type": "markdown",
   "metadata": {},
   "source": [
    "<b>Data 5 :</b><br>\n",
    "Scrap resturants in each neighborhood of new york city.\n",
    "\n",
    "* Data source : Fousquare API\n",
    "* Description : New York city geographical coordinates data will be utilized as input for the Foursquare API, that will be leveraged to provision                       venues information for each neighborhood. By using this API we will get all the venues in each neighborhood. Then we can filter                       these venues to get only the resturants that we are interested in."
   ]
  },
  {
   "cell_type": "markdown",
   "metadata": {},
   "source": [
    "### 2.2  Approach"
   ]
  },
  {
   "cell_type": "markdown",
   "metadata": {},
   "source": [
    "* Collect the New York city data from https://cocl.us/new_york_dataset to find  Geographic Coordinate data of New York City Neighborhood.\n",
    "* Collect New York  Population, Demographic, and Cuisine data to analyze and compare them in relation to the type of restaurant we are intereted in.\n",
    "* Using FourSquare API we will find all venues for each neighborhood.\n",
    "* Using New York Geographic data and Foursquare API to explore the neighborhoods and their associated borough.\n",
    "* Filtered the venue by choosing only the restaurants.\n",
    "* Calculate neighborhood K-Mean Clustering based on  mean occurance of venue category.\n",
    "* Visualize the clustering of neighborhoods using folium library(python) to analyse whether the market is saturated or non-saturated."
   ]
  },
  {
   "cell_type": "markdown",
   "metadata": {},
   "source": [
    "### 2.3 Questions that can be asked using the above mentioned datasets"
   ]
  },
  {
   "cell_type": "markdown",
   "metadata": {},
   "source": [
    "* What is best location in New York City for Indian Cuisine ?\n",
    "* Which areas have potential Indian Resturant Market ?\n",
    "* Which all areas lack Indian Resturants ?\n",
    "* Which is the best place to stay if I prefer Indian Cuisine ?"
   ]
  },
  {
   "cell_type": "markdown",
   "metadata": {},
   "source": [
    "### 2.4 Analysis"
   ]
  },
  {
   "cell_type": "markdown",
   "metadata": {},
   "source": [
    "We will import the required libraries for python.\n",
    "\n",
    "* pandas and numpy  and BeautifulSoup for handling data.\n",
    "* request module for using FourSquare API.\n",
    "* Matplotlib and associated plotting modules\n",
    "* json library to handle JSON files\n",
    "* geopy to get co-ordinates of City of New York.\n",
    "* Import k-means from clustering stage\n",
    "* folium to visualize the results on a map"
   ]
  },
  {
   "cell_type": "markdown",
   "metadata": {},
   "source": [
    "### 2.5 Conclusion"
   ]
  },
  {
   "cell_type": "markdown",
   "metadata": {},
   "source": [
    "We get the Initial Data-Frame with Names of Neighborhoods,  Borough and the coordinates of  each Neighborhood. Before comparing all the Neighborhood, since we want to concentrate only on restaurants, we need to get the idea about the best business areas in New York. ThereforeHere we concentrate on the five Borough:\n",
    "\n",
    "* Manhathan. \n",
    "* Bronx. \n",
    "* Queens. \n",
    "* Broklyn. \n",
    "* Staten Island. \n",
    "\n",
    "So as the next step we will use Foursquare data and obtain information on restaurants. With these, we can start with our battle of neighborhoods for opening a restaurant in New York."
   ]
  },
  {
   "cell_type": "code",
   "execution_count": null,
   "metadata": {},
   "outputs": [],
   "source": []
  }
 ],
 "metadata": {
  "kernelspec": {
   "display_name": "Python 3.6",
   "language": "python",
   "name": "python3"
  },
  "language_info": {
   "codemirror_mode": {
    "name": "ipython",
    "version": 3
   },
   "file_extension": ".py",
   "mimetype": "text/x-python",
   "name": "python",
   "nbconvert_exporter": "python",
   "pygments_lexer": "ipython3",
   "version": "3.6.9"
  }
 },
 "nbformat": 4,
 "nbformat_minor": 1
}
