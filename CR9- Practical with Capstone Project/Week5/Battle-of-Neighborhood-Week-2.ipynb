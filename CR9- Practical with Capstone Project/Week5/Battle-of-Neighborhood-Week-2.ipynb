{
 "cells": [
  {
   "cell_type": "markdown",
   "metadata": {},
   "source": [
    "# Coursera Capstone - REPORT"
   ]
  },
  {
   "cell_type": "markdown",
   "metadata": {},
   "source": [
    "### Content"
   ]
  },
  {
   "cell_type": "markdown",
   "metadata": {},
   "source": [
    "1. Introduction Section :\n",
    "\n",
    "   1.1 Discussion of the \"backgroung situation\" leading to the problem at hand:\n",
    "\n",
    "   1.2 Problem to be resolved\n",
    "\n",
    "   1.3 Audience for this project.\n",
    "   \n",
    "\n",
    "2. Data Section:\n",
    "\n",
    "   2.1 Data of Current Situation (current residence place)\n",
    "\n",
    "   2.2 Data required to resolve the problem\n",
    "\n",
    "   2.3 Data sources and data manipulation\n",
    "   \n",
    "\n",
    "3. Methodology section :\n",
    "\n",
    "   3.1 Process steps and strategy to resolve the problem\n",
    "\n",
    "   3.2 Data Science Methods, machine learing, mapping tools and exploratory data analysis.\n",
    "   \n",
    "\n",
    "4. Results section\n",
    "\n",
    "   4.1 Discussion of the results and how they help to take a decision.\n",
    "   \n",
    "\n",
    "5. Discussion section\n",
    "\n",
    "   5.1 Elaboration and discussion on any observations and/or recommendations for improvement.\n",
    "   \n",
    "\n",
    "6. Conclusion section\n",
    "\n",
    "   6.1 Desicison taken and Report Conclusion."
   ]
  },
  {
   "cell_type": "markdown",
   "metadata": {},
   "source": [
    "# 1. Introduction Section :"
   ]
  },
  {
   "cell_type": "markdown",
   "metadata": {},
   "source": [
    "### Discussion of the business problem and the audience who would be interested in this project.¶"
   ]
  },
  {
   "cell_type": "markdown",
   "metadata": {},
   "source": [
    "### 1.1 Scenario and Background"
   ]
  },
  {
   "cell_type": "markdown",
   "metadata": {},
   "source": [
    "### 1.2 Problem to be resolved:"
   ]
  },
  {
   "cell_type": "markdown",
   "metadata": {},
   "source": [
    "### 1.3 Interested Audience"
   ]
  },
  {
   "cell_type": "markdown",
   "metadata": {},
   "source": [
    "# 2. Data Section:"
   ]
  },
  {
   "cell_type": "markdown",
   "metadata": {},
   "source": [
    "### Description of the data and its sources that will be used to solve the problem"
   ]
  },
  {
   "cell_type": "markdown",
   "metadata": {},
   "source": [
    "### 2.1 Data Required to resolve the problem"
   ]
  },
  {
   "cell_type": "markdown",
   "metadata": {},
   "source": [
    "### 2.2 How the data will be used to solve the problem"
   ]
  },
  {
   "cell_type": "markdown",
   "metadata": {},
   "source": [
    "### 2.3 Mapping of Data"
   ]
  },
  {
   "cell_type": "markdown",
   "metadata": {},
   "source": [
    "# 3. Methodology section:"
   ]
  },
  {
   "cell_type": "markdown",
   "metadata": {},
   "source": [
    "### 3.1 Process steps and strategy to resolve the problem"
   ]
  },
  {
   "cell_type": "markdown",
   "metadata": {},
   "source": [
    "### 3.2 Data Science Methods, machine learing, mapping tools and exploratory data analysis."
   ]
  },
  {
   "cell_type": "code",
   "execution_count": null,
   "metadata": {},
   "outputs": [],
   "source": [
    "import numpy as np # library to handle data in a vectorized manner\n",
    "\n",
    "import pandas as pd # library for data analsysis\n",
    "pd.set_option('display.max_columns', None)\n",
    "pd.set_option('display.max_rows', None)\n",
    "\n",
    "import requests # library to handle requests\n",
    "\n",
    "from bs4 import BeautifulSoup\n",
    "\n",
    "!pip install geopy # uncomment this line if you haven't completed the Foursquare API lab\n",
    "# from geopy import geocoder\n",
    "from geopy.geocoders import Nominatim # convert an address into latitude and longitude values\n",
    "\n",
    "import os\n",
    "\n",
    "import json # library to handle JSON files\n",
    "from pandas.io.json import json_normalize # tranform JSON file into a pandas dataframe\n",
    "\n",
    "!conda install -c conda-forge folium=0.5.0 --yes # uncomment this line if you haven't completed the Foursquare API lab\n",
    "import folium # map rendering library\n",
    "\n",
    "# Matplotlib and associated plotting modules\n",
    "# Matplotlib and associated plotting modules\n",
    "\n",
    "import matplotlib.pyplot as plt\n",
    "import matplotlib.cm as cm\n",
    "import matplotlib.colors as colors\n",
    "%matplotlib inline\n",
    "\n",
    "import csv # implements classes to read and write tabular data in CSV form\n",
    "\n",
    "print('Libraries imported.')"
   ]
  },
  {
   "cell_type": "code",
   "execution_count": 2,
   "metadata": {},
   "outputs": [],
   "source": [
    "def get_new_york_data():\n",
    "    url='https://cocl.us/new_york_dataset'\n",
    "    resp=requests.get(url).json()\n",
    "    # all data is present in features label\n",
    "    features=resp['features']\n",
    "    \n",
    "    # define the dataframe columns\n",
    "    column_names = ['Borough', 'Neighborhood', 'Latitude', 'Longitude'] \n",
    "    # instantiate the dataframe\n",
    "    new_york_data = pd.DataFrame(columns=column_names)\n",
    "    \n",
    "    for data in features:\n",
    "        borough = data['properties']['borough'] \n",
    "        neighborhood_name = data['properties']['name']\n",
    "        \n",
    "        neighborhood_latlon = data['geometry']['coordinates']\n",
    "        neighborhood_lat = neighborhood_latlon[1]\n",
    "        neighborhood_lon = neighborhood_latlon[0]\n",
    "    \n",
    "        new_york_data = new_york_data.append({'Borough': borough,\n",
    "                                          'Neighborhood': neighborhood_name,\n",
    "                                          'Latitude': neighborhood_lat,\n",
    "                                          'Longitude': neighborhood_lon}, ignore_index=True)\n",
    "    \n",
    "    return new_york_data"
   ]
  },
  {
   "cell_type": "code",
   "execution_count": 3,
   "metadata": {},
   "outputs": [],
   "source": [
    "new_york_data=get_new_york_data()"
   ]
  },
  {
   "cell_type": "code",
   "execution_count": 4,
   "metadata": {},
   "outputs": [
    {
     "data": {
      "text/html": [
       "<div>\n",
       "<style scoped>\n",
       "    .dataframe tbody tr th:only-of-type {\n",
       "        vertical-align: middle;\n",
       "    }\n",
       "\n",
       "    .dataframe tbody tr th {\n",
       "        vertical-align: top;\n",
       "    }\n",
       "\n",
       "    .dataframe thead th {\n",
       "        text-align: right;\n",
       "    }\n",
       "</style>\n",
       "<table border=\"1\" class=\"dataframe\">\n",
       "  <thead>\n",
       "    <tr style=\"text-align: right;\">\n",
       "      <th></th>\n",
       "      <th>Borough</th>\n",
       "      <th>Neighborhood</th>\n",
       "      <th>Latitude</th>\n",
       "      <th>Longitude</th>\n",
       "    </tr>\n",
       "  </thead>\n",
       "  <tbody>\n",
       "    <tr>\n",
       "      <th>0</th>\n",
       "      <td>Bronx</td>\n",
       "      <td>Wakefield</td>\n",
       "      <td>40.894705</td>\n",
       "      <td>-73.847201</td>\n",
       "    </tr>\n",
       "    <tr>\n",
       "      <th>1</th>\n",
       "      <td>Bronx</td>\n",
       "      <td>Co-op City</td>\n",
       "      <td>40.874294</td>\n",
       "      <td>-73.829939</td>\n",
       "    </tr>\n",
       "    <tr>\n",
       "      <th>2</th>\n",
       "      <td>Bronx</td>\n",
       "      <td>Eastchester</td>\n",
       "      <td>40.887556</td>\n",
       "      <td>-73.827806</td>\n",
       "    </tr>\n",
       "    <tr>\n",
       "      <th>3</th>\n",
       "      <td>Bronx</td>\n",
       "      <td>Fieldston</td>\n",
       "      <td>40.895437</td>\n",
       "      <td>-73.905643</td>\n",
       "    </tr>\n",
       "    <tr>\n",
       "      <th>4</th>\n",
       "      <td>Bronx</td>\n",
       "      <td>Riverdale</td>\n",
       "      <td>40.890834</td>\n",
       "      <td>-73.912585</td>\n",
       "    </tr>\n",
       "  </tbody>\n",
       "</table>\n",
       "</div>"
      ],
      "text/plain": [
       "  Borough Neighborhood   Latitude  Longitude\n",
       "0   Bronx    Wakefield  40.894705 -73.847201\n",
       "1   Bronx   Co-op City  40.874294 -73.829939\n",
       "2   Bronx  Eastchester  40.887556 -73.827806\n",
       "3   Bronx    Fieldston  40.895437 -73.905643\n",
       "4   Bronx    Riverdale  40.890834 -73.912585"
      ]
     },
     "execution_count": 4,
     "metadata": {},
     "output_type": "execute_result"
    }
   ],
   "source": [
    "new_york_data.head()"
   ]
  },
  {
   "cell_type": "code",
   "execution_count": 5,
   "metadata": {},
   "outputs": [
    {
     "data": {
      "text/plain": [
       "(306, 4)"
      ]
     },
     "execution_count": 5,
     "metadata": {},
     "output_type": "execute_result"
    }
   ],
   "source": [
    "new_york_data.shape"
   ]
  },
  {
   "cell_type": "code",
   "execution_count": 6,
   "metadata": {},
   "outputs": [
    {
     "data": {
      "image/png": "[encoded data removed]",
      "text/plain": [
       "<Figure size 900x500 with 1 Axes>"
      ]
     },
     "metadata": {
      "needs_background": "light"
     },
     "output_type": "display_data"
    }
   ],
   "source": [
    "plt.figure(figsize=(9,5), dpi = 100)\n",
    "# title\n",
    "plt.title('Number of Neighborhood for each Borough in New York City')\n",
    "#On x-axis\n",
    "plt.xlabel('Borough', fontsize = 15)\n",
    "#On y-axis\n",
    "plt.ylabel('No.of Neighborhood', fontsize=15)\n",
    "#giving a bar plot\n",
    "new_york_data.groupby('Borough')['Neighborhood'].count().plot(kind='bar')\n",
    "#legend\n",
    "plt.legend()\n",
    "#displays the plot\n",
    "plt.show()\n"
   ]
  },
  {
   "cell_type": "code",
   "execution_count": 7,
   "metadata": {},
   "outputs": [
    {
     "data": {
      "text/html": [
       "<div>\n",
       "<style scoped>\n",
       "    .dataframe tbody tr th:only-of-type {\n",
       "        vertical-align: middle;\n",
       "    }\n",
       "\n",
       "    .dataframe tbody tr th {\n",
       "        vertical-align: top;\n",
       "    }\n",
       "\n",
       "    .dataframe thead th {\n",
       "        text-align: right;\n",
       "    }\n",
       "</style>\n",
       "<table border=\"1\" class=\"dataframe\">\n",
       "  <thead>\n",
       "    <tr style=\"text-align: right;\">\n",
       "      <th></th>\n",
       "      <th>Borough</th>\n",
       "    </tr>\n",
       "  </thead>\n",
       "  <tbody>\n",
       "    <tr>\n",
       "      <th>Queens</th>\n",
       "      <td>81</td>\n",
       "    </tr>\n",
       "    <tr>\n",
       "      <th>Brooklyn</th>\n",
       "      <td>70</td>\n",
       "    </tr>\n",
       "    <tr>\n",
       "      <th>Staten Island</th>\n",
       "      <td>63</td>\n",
       "    </tr>\n",
       "    <tr>\n",
       "      <th>Bronx</th>\n",
       "      <td>52</td>\n",
       "    </tr>\n",
       "    <tr>\n",
       "      <th>Manhattan</th>\n",
       "      <td>40</td>\n",
       "    </tr>\n",
       "  </tbody>\n",
       "</table>\n",
       "</div>"
      ],
      "text/plain": [
       "               Borough\n",
       "Queens              81\n",
       "Brooklyn            70\n",
       "Staten Island       63\n",
       "Bronx               52\n",
       "Manhattan           40"
      ]
     },
     "execution_count": 7,
     "metadata": {},
     "output_type": "execute_result"
    }
   ],
   "source": [
    "new_york_data['Borough'].value_counts().to_frame()"
   ]
  },
  {
   "cell_type": "code",
   "execution_count": 8,
   "metadata": {},
   "outputs": [
    {
     "data": {
      "text/plain": [
       "(306, 4)"
      ]
     },
     "execution_count": 8,
     "metadata": {},
     "output_type": "execute_result"
    }
   ],
   "source": [
    "new_york_data.shape"
   ]
  },
  {
   "cell_type": "code",
   "execution_count": 9,
   "metadata": {},
   "outputs": [
    {
     "name": "stdout",
     "output_type": "stream",
     "text": [
      "['Bronx' 'Manhattan' 'Brooklyn' 'Queens' 'Staten Island']\n"
     ]
    }
   ],
   "source": [
    "print(new_york_data.Borough.unique())"
   ]
  },
  {
   "cell_type": "code",
   "execution_count": 10,
   "metadata": {},
   "outputs": [
    {
     "data": {
      "text/html": [
       "<div>\n",
       "<style scoped>\n",
       "    .dataframe tbody tr th:only-of-type {\n",
       "        vertical-align: middle;\n",
       "    }\n",
       "\n",
       "    .dataframe tbody tr th {\n",
       "        vertical-align: top;\n",
       "    }\n",
       "\n",
       "    .dataframe thead th {\n",
       "        text-align: right;\n",
       "    }\n",
       "</style>\n",
       "<table border=\"1\" class=\"dataframe\">\n",
       "  <thead>\n",
       "    <tr style=\"text-align: right;\">\n",
       "      <th></th>\n",
       "      <th>Borough</th>\n",
       "      <th>Neighborhood</th>\n",
       "      <th>Latitude</th>\n",
       "      <th>Longitude</th>\n",
       "    </tr>\n",
       "  </thead>\n",
       "  <tbody>\n",
       "    <tr>\n",
       "      <th>0</th>\n",
       "      <td>Manhattan</td>\n",
       "      <td>Marble Hill</td>\n",
       "      <td>40.876551</td>\n",
       "      <td>-73.910660</td>\n",
       "    </tr>\n",
       "    <tr>\n",
       "      <th>1</th>\n",
       "      <td>Brooklyn</td>\n",
       "      <td>Bay Ridge</td>\n",
       "      <td>40.625801</td>\n",
       "      <td>-74.030621</td>\n",
       "    </tr>\n",
       "    <tr>\n",
       "      <th>2</th>\n",
       "      <td>Brooklyn</td>\n",
       "      <td>Bensonhurst</td>\n",
       "      <td>40.611009</td>\n",
       "      <td>-73.995180</td>\n",
       "    </tr>\n",
       "    <tr>\n",
       "      <th>3</th>\n",
       "      <td>Brooklyn</td>\n",
       "      <td>Sunset Park</td>\n",
       "      <td>40.645103</td>\n",
       "      <td>-74.010316</td>\n",
       "    </tr>\n",
       "    <tr>\n",
       "      <th>4</th>\n",
       "      <td>Brooklyn</td>\n",
       "      <td>Greenpoint</td>\n",
       "      <td>40.730201</td>\n",
       "      <td>-73.954241</td>\n",
       "    </tr>\n",
       "  </tbody>\n",
       "</table>\n",
       "</div>"
      ],
      "text/plain": [
       "     Borough Neighborhood   Latitude  Longitude\n",
       "0  Manhattan  Marble Hill  40.876551 -73.910660\n",
       "1   Brooklyn    Bay Ridge  40.625801 -74.030621\n",
       "2   Brooklyn  Bensonhurst  40.611009 -73.995180\n",
       "3   Brooklyn  Sunset Park  40.645103 -74.010316\n",
       "4   Brooklyn   Greenpoint  40.730201 -73.954241"
      ]
     },
     "execution_count": 10,
     "metadata": {},
     "output_type": "execute_result"
    }
   ],
   "source": [
    "new_york_data = new_york_data.loc[(new_york_data['Borough'] == 'Brooklyn')|(new_york_data['Borough'] == 'Manhattan')]\n",
    "new_york_data = new_york_data.reset_index(drop=True)\n",
    "new_york_data.head()"
   ]
  },
  {
   "cell_type": "code",
   "execution_count": 11,
   "metadata": {},
   "outputs": [
    {
     "data": {
      "text/plain": [
       "(110, 4)"
      ]
     },
     "execution_count": 11,
     "metadata": {},
     "output_type": "execute_result"
    }
   ],
   "source": [
    "new_york_data.shape"
   ]
  },
  {
   "cell_type": "code",
   "execution_count": 11,
   "metadata": {},
   "outputs": [
    {
     "name": "stdout",
     "output_type": "stream",
     "text": [
      "The geograpical coordinate of New York City are 40.7127281, -74.0060152.\n"
     ]
    }
   ],
   "source": [
    "address = 'New York City, NY'\n",
    "\n",
    "geolocator = Nominatim(user_agent=\"Jupyter\")\n",
    "location = geolocator.geocode(address)\n",
    "latitude = location.latitude\n",
    "longitude = location.longitude\n",
    "print('The geograpical coordinate of New York City are {}, {}.'.format(latitude, longitude))\n",
    "\n"
   ]
  },
  {
   "cell_type": "code",
   "execution_count": 12,
   "metadata": {},
   "outputs": [
    {
     "data": {
      "text/html": [
       "<div style=\"width:100%;\"><div style=\"position:relative;width:100%;height:0;padding-bottom:60%;\"><iframe src=\"about:blank\" style=\"position:absolute;width:100%;height:100%;left:0;top:0;border:none !important;\" data-html=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 onload=\"this.contentDocument.open();this.contentDocument.write(atob(this.getAttribute('data-html')));this.contentDocument.close();\" allowfullscreen webkitallowfullscreen mozallowfullscreen></iframe></div></div>"
      ],
      "text/plain": [
       "<folium.folium.Map at 0x7f48d6550588>"
      ]
     },
     "execution_count": 12,
     "metadata": {},
     "output_type": "execute_result"
    }
   ],
   "source": [
    "# create map of New York using latitude and longitude values\n",
    "map_new_york = folium.Map(location=[latitude, longitude], zoom_start=10)\n",
    "\n",
    "# add markers to map\n",
    "for lat, lng, borough, neighborhood in zip(new_york_data['Latitude'], new_york_data['Longitude'], new_york_data['Borough'], new_york_data['Neighborhood']):\n",
    "    label = '{}, {}'.format(neighborhood, borough)\n",
    "    label = folium.Popup(label, parse_html=True)\n",
    "    folium.CircleMarker(\n",
    "        [lat, lng],\n",
    "        radius=5,\n",
    "        popup=label,\n",
    "        color='blue',\n",
    "        fill=True,\n",
    "        fill_color='#3186cc',\n",
    "        fill_opacity=0.7,\n",
    "        parse_html=False).add_to(map_new_york )  \n",
    "    \n",
    "map_new_york"
   ]
  },
  {
   "cell_type": "code",
   "execution_count": 13,
   "metadata": {},
   "outputs": [
    {
     "name": "stdout",
     "output_type": "stream",
     "text": [
      "Your credentails:\n",
      "CLIENT_ID: 5QH431DEX2VYMOZERAM2G22WABZ5XD5GIQZHTAKY0WQ4D4OW\n",
      "CLIENT_SECRET:TLZODC5EW3KXJHRL4MRCPG5Y2B4JCDSS3RFSVSF4OQJ3KWA5\n"
     ]
    }
   ],
   "source": [
    "CLIENT_ID = '5QH431DEX2VYMOZERAM2G22WABZ5XD5GIQZHTAKY0WQ4D4OW' # your Foursquare ID\n",
    "CLIENT_SECRET = 'TLZODC5EW3KXJHRL4MRCPG5Y2B4JCDSS3RFSVSF4OQJ3KWA5' # your Foursquare Secret\n",
    "VERSION = '20200225'\n",
    "LIMIT = 30\n",
    "print('Your credentails:')\n",
    "print('CLIENT_ID: ' + CLIENT_ID)\n",
    "print('CLIENT_SECRET:' + CLIENT_SECRET)"
   ]
  },
  {
   "cell_type": "code",
   "execution_count": 16,
   "metadata": {},
   "outputs": [],
   "source": [
    "def getNearbyVenues(names, latitudes, longitudes, LIMIT=200, radius=1000):\n",
    "    \n",
    "    venues_list=[]\n",
    "    for name, lat, lng in zip(names, latitudes, longitudes):\n",
    "        print(name)\n",
    "            \n",
    "        # create the API request URL\n",
    "        url = 'https://api.foursquare.com/v2/venues/explore?&client_id={}&client_secret={}&v={}&ll={},{}&radius={}&limit={}'.format(\n",
    "            CLIENT_ID, \n",
    "            CLIENT_SECRET, \n",
    "            VERSION, \n",
    "            lat, \n",
    "            lng, \n",
    "            radius, \n",
    "            LIMIT)\n",
    "            \n",
    "        # make the GET request\n",
    "        results = requests.get(url).json()[\"response\"]['groups'][0]['items']\n",
    "        \n",
    "        # return only relevant information for each nearby venue\n",
    "        venues_list.append([(\n",
    "            name, \n",
    "            lat, \n",
    "            lng, \n",
    "            v['venue']['name'], \n",
    "            v['venue']['location']['lat'], \n",
    "            v['venue']['location']['lng'],  \n",
    "            v['venue']['categories'][0]['name']) for v in results])\n",
    "\n",
    "    nearby_venues = pd.DataFrame([item for venue_list in venues_list for item in venue_list])\n",
    "    nearby_venues.columns = ['Neighborhood', \n",
    "                  'Neighborhood Latitude', \n",
    "                  'Neighborhood Longitude', \n",
    "                  'Venue', \n",
    "                  'Venue Latitude', \n",
    "                  'Venue Longitude', \n",
    "                  'Venue Category']\n",
    "    \n",
    "    return(nearby_venues)                             "
   ]
  },
  {
   "cell_type": "code",
   "execution_count": 18,
   "metadata": {},
   "outputs": [
    {
     "name": "stdout",
     "output_type": "stream",
     "text": [
      "Marble Hill\n",
      "Bay Ridge\n",
      "Bensonhurst\n",
      "Sunset Park\n",
      "Greenpoint\n",
      "Gravesend\n",
      "Brighton Beach\n",
      "Sheepshead Bay\n",
      "Manhattan Terrace\n",
      "Flatbush\n",
      "Crown Heights\n",
      "East Flatbush\n",
      "Kensington\n",
      "Windsor Terrace\n",
      "Prospect Heights\n",
      "Brownsville\n",
      "Williamsburg\n",
      "Bushwick\n",
      "Bedford Stuyvesant\n",
      "Brooklyn Heights\n",
      "Cobble Hill\n",
      "Carroll Gardens\n",
      "Red Hook\n",
      "Gowanus\n",
      "Fort Greene\n",
      "Park Slope\n",
      "Cypress Hills\n",
      "East New York\n",
      "Starrett City\n",
      "Canarsie\n",
      "Flatlands\n",
      "Mill Island\n",
      "Manhattan Beach\n",
      "Coney Island\n",
      "Bath Beach\n",
      "Borough Park\n",
      "Dyker Heights\n",
      "Gerritsen Beach\n",
      "Marine Park\n",
      "Clinton Hill\n",
      "Sea Gate\n",
      "Downtown\n",
      "Boerum Hill\n",
      "Prospect Lefferts Gardens\n",
      "Ocean Hill\n",
      "City Line\n",
      "Bergen Beach\n",
      "Midwood\n",
      "Prospect Park South\n",
      "Georgetown\n",
      "East Williamsburg\n",
      "North Side\n",
      "South Side\n",
      "Ocean Parkway\n",
      "Fort Hamilton\n",
      "Chinatown\n",
      "Washington Heights\n",
      "Inwood\n",
      "Hamilton Heights\n",
      "Manhattanville\n",
      "Central Harlem\n",
      "East Harlem\n",
      "Upper East Side\n",
      "Yorkville\n",
      "Lenox Hill\n",
      "Roosevelt Island\n",
      "Upper West Side\n",
      "Lincoln Square\n",
      "Clinton\n",
      "Midtown\n",
      "Murray Hill\n",
      "Chelsea\n",
      "Greenwich Village\n",
      "East Village\n",
      "Lower East Side\n",
      "Tribeca\n",
      "Little Italy\n",
      "Soho\n",
      "West Village\n",
      "Manhattan Valley\n",
      "Morningside Heights\n",
      "Gramercy\n",
      "Battery Park City\n",
      "Financial District\n",
      "Ditmas Park\n",
      "Wingate\n",
      "Rugby\n",
      "Carnegie Hill\n",
      "Noho\n",
      "Civic Center\n",
      "Midtown South\n",
      "Remsen Village\n",
      "New Lots\n",
      "Paerdegat Basin\n",
      "Mill Basin\n",
      "Sutton Place\n",
      "Turtle Bay\n",
      "Tudor City\n",
      "Stuyvesant Town\n",
      "Flatiron\n",
      "Fulton Ferry\n",
      "Vinegar Hill\n",
      "Weeksville\n",
      "Broadway Junction\n",
      "Dumbo\n",
      "Homecrest\n",
      "Highland Park\n",
      "Madison\n",
      "Erasmus\n",
      "Hudson Yards\n",
      "The \"BM_venues\" dataframe has 9666 venues and 406 unique venue types.\n"
     ]
    },
    {
     "data": {
      "text/html": [
       "<div>\n",
       "<style scoped>\n",
       "    .dataframe tbody tr th:only-of-type {\n",
       "        vertical-align: middle;\n",
       "    }\n",
       "\n",
       "    .dataframe tbody tr th {\n",
       "        vertical-align: top;\n",
       "    }\n",
       "\n",
       "    .dataframe thead th {\n",
       "        text-align: right;\n",
       "    }\n",
       "</style>\n",
       "<table border=\"1\" class=\"dataframe\">\n",
       "  <thead>\n",
       "    <tr style=\"text-align: right;\">\n",
       "      <th></th>\n",
       "      <th>Neighborhood</th>\n",
       "      <th>Neighborhood Latitude</th>\n",
       "      <th>Neighborhood Longitude</th>\n",
       "      <th>Venue</th>\n",
       "      <th>Venue Latitude</th>\n",
       "      <th>Venue Longitude</th>\n",
       "      <th>Venue Category</th>\n",
       "    </tr>\n",
       "  </thead>\n",
       "  <tbody>\n",
       "    <tr>\n",
       "      <th>0</th>\n",
       "      <td>Marble Hill</td>\n",
       "      <td>40.876551</td>\n",
       "      <td>-73.91066</td>\n",
       "      <td>Bikram Yoga</td>\n",
       "      <td>40.876844</td>\n",
       "      <td>-73.906204</td>\n",
       "      <td>Yoga Studio</td>\n",
       "    </tr>\n",
       "    <tr>\n",
       "      <th>1</th>\n",
       "      <td>Marble Hill</td>\n",
       "      <td>40.876551</td>\n",
       "      <td>-73.91066</td>\n",
       "      <td>Arturo's</td>\n",
       "      <td>40.874412</td>\n",
       "      <td>-73.910271</td>\n",
       "      <td>Pizza Place</td>\n",
       "    </tr>\n",
       "    <tr>\n",
       "      <th>2</th>\n",
       "      <td>Marble Hill</td>\n",
       "      <td>40.876551</td>\n",
       "      <td>-73.91066</td>\n",
       "      <td>Tibbett Diner</td>\n",
       "      <td>40.880404</td>\n",
       "      <td>-73.908937</td>\n",
       "      <td>Diner</td>\n",
       "    </tr>\n",
       "    <tr>\n",
       "      <th>3</th>\n",
       "      <td>Marble Hill</td>\n",
       "      <td>40.876551</td>\n",
       "      <td>-73.91066</td>\n",
       "      <td>Sam's Pizza</td>\n",
       "      <td>40.879435</td>\n",
       "      <td>-73.905859</td>\n",
       "      <td>Pizza Place</td>\n",
       "    </tr>\n",
       "    <tr>\n",
       "      <th>4</th>\n",
       "      <td>Marble Hill</td>\n",
       "      <td>40.876551</td>\n",
       "      <td>-73.91066</td>\n",
       "      <td>Starbucks</td>\n",
       "      <td>40.877531</td>\n",
       "      <td>-73.905582</td>\n",
       "      <td>Coffee Shop</td>\n",
       "    </tr>\n",
       "  </tbody>\n",
       "</table>\n",
       "</div>"
      ],
      "text/plain": [
       "  Neighborhood  Neighborhood Latitude  Neighborhood Longitude          Venue  \\\n",
       "0  Marble Hill              40.876551               -73.91066    Bikram Yoga   \n",
       "1  Marble Hill              40.876551               -73.91066       Arturo's   \n",
       "2  Marble Hill              40.876551               -73.91066  Tibbett Diner   \n",
       "3  Marble Hill              40.876551               -73.91066    Sam's Pizza   \n",
       "4  Marble Hill              40.876551               -73.91066      Starbucks   \n",
       "\n",
       "   Venue Latitude  Venue Longitude Venue Category  \n",
       "0       40.876844       -73.906204    Yoga Studio  \n",
       "1       40.874412       -73.910271    Pizza Place  \n",
       "2       40.880404       -73.908937          Diner  \n",
       "3       40.879435       -73.905859    Pizza Place  \n",
       "4       40.877531       -73.905582    Coffee Shop  "
      ]
     },
     "execution_count": 18,
     "metadata": {},
     "output_type": "execute_result"
    }
   ],
   "source": [
    "BM_venues = getNearbyVenues(names=new_york_data['Neighborhood'],\n",
    "                                  latitudes=new_york_data['Latitude'],\n",
    "                                  longitudes=new_york_data['Longitude'],\n",
    "                                  LIMIT=200)\n",
    "\n",
    "print('The \"BM_venues\" dataframe has {} venues and {} unique venue types.'.format(\n",
    "      len(BM_venues['Venue Category']),\n",
    "      len(BM_venues['Venue Category'].unique())))\n",
    "\n",
    "BM_venues.to_csv('BM_venues.csv', sep=',', encoding='UTF8')\n",
    "BM_venues.head()"
   ]
  },
  {
   "cell_type": "code",
   "execution_count": 21,
   "metadata": {},
   "outputs": [
    {
     "data": {
      "text/plain": [
       "{'meta': {'code': 429,\n",
       "  'errorType': 'quota_exceeded',\n",
       "  'errorDetail': 'Quota exceeded',\n",
       "  'requestId': '5e7b873a9fcb92001b19d607'},\n",
       " 'response': {}}"
      ]
     },
     "execution_count": 21,
     "metadata": {},
     "output_type": "execute_result"
    }
   ],
   "source": [
    "results = requests.get(url).json()\n",
    "results"
   ]
  },
  {
   "cell_type": "code",
   "execution_count": null,
   "metadata": {},
   "outputs": [],
   "source": [
    "new_york_venues.shape"
   ]
  },
  {
   "cell_type": "code",
   "execution_count": null,
   "metadata": {},
   "outputs": [],
   "source": [
    "def Venues_Map(Borough_name, Borough_neighborhoods):\n",
    "    \n",
    "    # Use geopy library to get the latitude and longitude values \n",
    "    geolocator = Nominatim(user_agent=\"Jupyter\")\n",
    "    Borough_location = geolocator.geocode(Borough_name) #'Brooklyn, NY'\n",
    "    Borough_latitude = Borough_location.latitude\n",
    "    Borough_longitude = Borough_location.longitude\n",
    "    print('The geographical coordinates of \"{}\" are {}, {}.'.format(Borough_name, Borough_latitude, Borough_longitude))\n",
    "    \n",
    "    # To verify the number of Boroughs and Neighborhoods in the extracted data\n",
    "    print('The \"{}\" dataframe has {} different venue types and {} neighborhoods.'.format(\n",
    "          Borough_name,\n",
    "          len(Borough_neighborhoods['Venue Category'].unique()),\n",
    "          len(Borough_neighborhoods['Neighborhood'].unique())))\n",
    "    \n",
    "    # create map of city using latitude and longitude values\n",
    "    map_Borough = folium.Map(location=[Borough_latitude, Borough_longitude], zoom_start=10)\n",
    "\n",
    "    # add markers to map\n",
    "    for lat, lng, venue, category in zip(Borough_neighborhoods['Venue Latitude'], Borough_neighborhoods['Venue Longitude'], Borough_neighborhoods['Venue'], Borough_neighborhoods['Venue Category']):\n",
    "        label = '{}, {}'.format(category, venue)\n",
    "        label = folium.Popup(label, parse_html=True)\n",
    "        folium.CircleMarker(\n",
    "            [lat, lng],\n",
    "            radius=0.1,\n",
    "            popup=label,\n",
    "            color='red',\n",
    "            fill=True,\n",
    "            fill_color='#FF0000',\n",
    "            fill_opacity=0.3).add_to(map_Borough)  \n",
    "\n",
    "    return map_Borough"
   ]
  },
  {
   "cell_type": "code",
   "execution_count": null,
   "metadata": {
    "scrolled": true
   },
   "outputs": [],
   "source": [
    "Venues_Map('New York City, NY', new_york_venues)"
   ]
  },
  {
   "cell_type": "code",
   "execution_count": null,
   "metadata": {},
   "outputs": [],
   "source": [
    "new_york_venues.groupby('Venue Category')['Venue'].count().sort_values(ascending=False)"
   ]
  },
  {
   "cell_type": "code",
   "execution_count": null,
   "metadata": {},
   "outputs": [],
   "source": [
    "new_york_venues.groupby('Neighborhood').count()"
   ]
  },
  {
   "cell_type": "code",
   "execution_count": null,
   "metadata": {},
   "outputs": [],
   "source": [
    "print('There are {} uniques categories.'.format(len(new_york_venues['Venue Category'].unique())))"
   ]
  },
  {
   "cell_type": "code",
   "execution_count": null,
   "metadata": {},
   "outputs": [],
   "source": [
    "# one hot encoding\n",
    "new_york_onehot = pd.get_dummies(new_york_venues[['Venue Category']], prefix=\"\", prefix_sep=\"\")\n",
    "\n",
    "#column lists before adding neighborhood\n",
    "column_names = ['Neighborhood'] + list(new_york_onehot.columns)\n",
    "\n",
    "# add neighborhood column back to dataframe\n",
    "new_york_onehot['Neighborhood'] = new_york_venues['Neighborhood'] \n",
    "\n",
    "# move neighborhood column to the first column\n",
    "new_york_onehot = new_york_onehot[column_names]\n",
    "\n",
    "new_york_onehot.head()"
   ]
  },
  {
   "cell_type": "code",
   "execution_count": null,
   "metadata": {},
   "outputs": [],
   "source": [
    "restaurant_List = []\n",
    "search = 'Restaurant'\n",
    "for i in new_york_onehot.columns :\n",
    "    if search in i:\n",
    "        restaurant_List.append(i)"
   ]
  },
  {
   "cell_type": "code",
   "execution_count": null,
   "metadata": {},
   "outputs": [],
   "source": [
    "restaurant_List"
   ]
  },
  {
   "cell_type": "code",
   "execution_count": null,
   "metadata": {},
   "outputs": [],
   "source": [
    "col_name = []\n",
    "col_name = ['Neighborhood'] + restaurant_List\n",
    "BM_restaurant = new_york_onehot[col_name]\n",
    "BM_restaurant = BM_restaurant.iloc[:,1::]"
   ]
  },
  {
   "cell_type": "code",
   "execution_count": null,
   "metadata": {},
   "outputs": [],
   "source": [
    "BM_restaurant_grouped = BM_restaurant.groupby('Neighborhood').sum().reset_index()"
   ]
  },
  {
   "cell_type": "code",
   "execution_count": null,
   "metadata": {},
   "outputs": [],
   "source": [
    "BM_restaurant_grouped['Total'] = BM_restaurant_grouped .sum(axis=1)"
   ]
  },
  {
   "cell_type": "code",
   "execution_count": null,
   "metadata": {},
   "outputs": [],
   "source": [
    "BM_restaurant_grouped"
   ]
  },
  {
   "cell_type": "code",
   "execution_count": null,
   "metadata": {},
   "outputs": [],
   "source": [
    "print (new_york_venues['Venue Category'].value_counts())"
   ]
  },
  {
   "cell_type": "code",
   "execution_count": null,
   "metadata": {},
   "outputs": [],
   "source": [
    "# create a dataframe of top 10 categories\n",
    "new_york_5_Dist_Venues_Top10 = new_york_venues['Venue Category'].value_counts()[0:10].to_frame(name='frequency')\n",
    "new_york_5_Dist_Venues_Top10=new_york_5_Dist_Venues_Top10.reset_index()\n",
    "#new_yprk_5_Dist_Venues_Top10\n",
    "\n",
    "new_york_5_Dist_Venues_Top10.rename(index=str, columns={\"index\": \"Venue_Category\", \"frequency\": \"Frequency\"}, inplace=True)\n",
    "new_york_5_Dist_Venues_Top10\n",
    "\n",
    "new_york_5_Dist_Venues_Top10.rename(index=str, columns={\"index\": \"Venue_Category\", \"frequency\": \"Frequency\"}, inplace=True)\n",
    "new_york_5_Dist_Venues_Top10"
   ]
  },
  {
   "cell_type": "code",
   "execution_count": null,
   "metadata": {},
   "outputs": [],
   "source": [
    "import seaborn as sns\n",
    "fig = plt.figure(figsize=(18,7))\n",
    "s=sns.barplot(x=\"Venue_Category\", y=\"Frequency\", data=new_york_5_Dist_Venues_Top10)\n",
    "s.set_xticklabels(s.get_xticklabels(), rotation=30)\n",
    "plt.title('10 Most Frequently Occuring Venues in 5 Major Districts of Tokyo', fontsize=15)\n",
    "plt.xlabel(\"Venue_Category\", fontsize=15)\n",
    "plt.ylabel (\"Frequency\", fontsize=15)\n",
    "plt.savefig(\"Most_Freq_Venues.png\", dpi=300)\n",
    "plt.show()"
   ]
  },
  {
   "cell_type": "code",
   "execution_count": null,
   "metadata": {},
   "outputs": [],
   "source": []
  }
 ],
 "metadata": {
  "kernelspec": {
   "display_name": "Python 3.6",
   "language": "python",
   "name": "python3"
  },
  "language_info": {
   "codemirror_mode": {
    "name": "ipython",
    "version": 3
   },
   "file_extension": ".py",
   "mimetype": "text/x-python",
   "name": "python",
   "nbconvert_exporter": "python",
   "pygments_lexer": "ipython3",
   "version": "3.6.9"
  }
 },
 "nbformat": 4,
 "nbformat_minor": 1
}
